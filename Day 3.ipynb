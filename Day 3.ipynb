{
 "cells": [
  {
   "cell_type": "markdown",
   "metadata": {},
   "source": [
    "# Day 3\n",
    "### Part 1"
   ]
  },
  {
   "cell_type": "code",
   "execution_count": 1,
   "metadata": {
    "collapsed": true
   },
   "outputs": [],
   "source": [
    "with open('data_day3.txt') as f:\n",
    "    contents = f.readlines()"
   ]
  },
  {
   "cell_type": "code",
   "execution_count": 2,
   "metadata": {},
   "outputs": [],
   "source": [
    "dict_alpha = {'A':1,'B':2,'C':3,'D':4,'E':5,'F':6,'G':7,'H':8,'I':9,'J':10,'K':11,'L':12,'M':13,'N':14,'O':15,'P':16,'Q':17,'R':18,'S':19,'T':20,'U':21,'V':22,'W':23,'X':24,'Y':25,'Z':26}"
   ]
  },
  {
   "cell_type": "code",
   "execution_count": 3,
   "metadata": {},
   "outputs": [
    {
     "name": "stdout",
     "output_type": "stream",
     "text": [
      "CjhshBJCSr TTsLwqwqwb\n"
     ]
    }
   ],
   "source": [
    "# Example Split by half\n",
    "str_first = contents[0].replace('\\n','')[:int(len(contents[0].replace('\\n',''))/2)]\n",
    "str_second = contents[0].replace('\\n','')[int(len(contents[0].replace('\\n',''))/2):]\n",
    "print(str_first, str_second)"
   ]
  },
  {
   "cell_type": "code",
   "execution_count": 4,
   "metadata": {},
   "outputs": [
    {
     "data": {
      "text/plain": [
       "10"
      ]
     },
     "execution_count": 4,
     "metadata": {},
     "output_type": "execute_result"
    }
   ],
   "source": [
    "int(len(contents[0].replace('\\n',''))/2)"
   ]
  },
  {
   "cell_type": "code",
   "execution_count": 5,
   "metadata": {
    "collapsed": true
   },
   "outputs": [],
   "source": [
    "def func_score(input_text, dict_alpha):\n",
    "    score = dict_alpha[input_text.upper()]\n",
    "    if input_text == input_text.upper():\n",
    "        score += 26\n",
    "    return score"
   ]
  },
  {
   "cell_type": "code",
   "execution_count": 6,
   "metadata": {
    "collapsed": true
   },
   "outputs": [],
   "source": [
    "# TEST EXAMPLE\n",
    "lst_scores = []\n",
    "for i_char in str_first:\n",
    "    if i_char in str_second:\n",
    "        lst_scores.append(func_score(i_char, dict_alpha))"
   ]
  },
  {
   "cell_type": "code",
   "execution_count": 7,
   "metadata": {},
   "outputs": [
    {
     "data": {
      "text/plain": [
       "[19]"
      ]
     },
     "execution_count": 7,
     "metadata": {},
     "output_type": "execute_result"
    }
   ],
   "source": [
    "# TEST EXAMPLE SCORE\n",
    "lst_scores"
   ]
  },
  {
   "cell_type": "code",
   "execution_count": 8,
   "metadata": {
    "collapsed": true
   },
   "outputs": [],
   "source": [
    "lst_scores = []\n",
    "for i_content in contents:\n",
    "    str_first = i_content.replace('\\n','')[:int(len(i_content.replace('\\n',''))/2)]\n",
    "    str_second = i_content.replace('\\n','')[int(len(i_content.replace('\\n',''))/2):]\n",
    "    for i_char in str_first:\n",
    "        if i_char in str_second:\n",
    "            lst_scores.append(func_score(i_char, dict_alpha))\n",
    "            # Note: had to add break since there were cases with the same item appearing more than once in a single splitting \n",
    "            break"
   ]
  },
  {
   "cell_type": "code",
   "execution_count": 9,
   "metadata": {},
   "outputs": [
    {
     "data": {
      "text/plain": [
       "7766"
      ]
     },
     "execution_count": 9,
     "metadata": {},
     "output_type": "execute_result"
    }
   ],
   "source": [
    "# Answer\n",
    "sum(lst_scores)"
   ]
  },
  {
   "cell_type": "markdown",
   "metadata": {},
   "source": [
    "### Part 2"
   ]
  },
  {
   "cell_type": "code",
   "execution_count": 10,
   "metadata": {},
   "outputs": [],
   "source": [
    "lst_groups = []\n",
    "lst_sub_group = []\n",
    "i_counter = 0\n",
    "i_group = 1\n",
    "for i_content in contents:\n",
    "    i_counter += 1\n",
    "    lst_sub_group.append(i_content.replace('\\n',''))\n",
    "    if i_counter // 3:\n",
    "        lst_groups.append(lst_sub_group)\n",
    "        lst_sub_group = []\n",
    "        i_counter = 0"
   ]
  },
  {
   "cell_type": "code",
   "execution_count": 11,
   "metadata": {},
   "outputs": [],
   "source": [
    "lst_group_scores = []\n",
    "for i_group in lst_groups:\n",
    "    for i_char in i_group[0]:\n",
    "        if (i_char in i_group[1]) and (i_char in i_group[2]):\n",
    "            lst_group_scores.append(func_score(i_char, dict_alpha))\n",
    "            break"
   ]
  },
  {
   "cell_type": "code",
   "execution_count": 12,
   "metadata": {},
   "outputs": [
    {
     "data": {
      "text/plain": [
       "2415"
      ]
     },
     "execution_count": 12,
     "metadata": {},
     "output_type": "execute_result"
    }
   ],
   "source": [
    "# Answer\n",
    "sum(lst_group_scores)"
   ]
  },
  {
   "cell_type": "code",
   "execution_count": null,
   "metadata": {
    "collapsed": true
   },
   "outputs": [],
   "source": []
  }
 ],
 "metadata": {
  "kernelspec": {
   "display_name": "Python 3",
   "language": "python",
   "name": "python3"
  },
  "language_info": {
   "codemirror_mode": {
    "name": "ipython",
    "version": 3
   },
   "file_extension": ".py",
   "mimetype": "text/x-python",
   "name": "python",
   "nbconvert_exporter": "python",
   "pygments_lexer": "ipython3",
   "version": "3.6.3"
  }
 },
 "nbformat": 4,
 "nbformat_minor": 2
}
