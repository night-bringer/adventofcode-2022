{
 "cells": [
  {
   "cell_type": "markdown",
   "metadata": {},
   "source": [
    "# Day 2\n",
    "### Part 1"
   ]
  },
  {
   "cell_type": "code",
   "execution_count": 22,
   "metadata": {
    "collapsed": true
   },
   "outputs": [],
   "source": [
    "with open('data_day2.txt') as f:\n",
    "    contents = f.readlines()"
   ]
  },
  {
   "cell_type": "code",
   "execution_count": 24,
   "metadata": {},
   "outputs": [],
   "source": [
    "def calc_value(input_value,opponent_value):\n",
    "    value_dict = {\"A\":1,\"B\":2,\"C\":3,\"X\":1,\"Y\":2,\"Z\":3}\n",
    "    if (input_value == \"X\" and opponent_value == \"C\") or (input_value == \"Y\" and opponent_value == \"A\") or (input_value == \"Z\" and opponent_value == \"B\"):\n",
    "        outcome_value = 6\n",
    "    elif value_dict[input_value] == value_dict[opponent_value]:\n",
    "        outcome_value = 3\n",
    "    else:\n",
    "        outcome_value = 0\n",
    "    return value_dict[input_value] + outcome_value"
   ]
  },
  {
   "cell_type": "code",
   "execution_count": 25,
   "metadata": {},
   "outputs": [
    {
     "data": {
      "text/plain": [
       "['C', 'Y']"
      ]
     },
     "execution_count": 25,
     "metadata": {},
     "output_type": "execute_result"
    }
   ],
   "source": [
    "# Split line for comparison\n",
    "contents[0].replace('\\n','').split(' ')"
   ]
  },
  {
   "cell_type": "code",
   "execution_count": 26,
   "metadata": {
    "collapsed": true
   },
   "outputs": [],
   "source": [
    "lst_results = []\n",
    "for i_content in contents:\n",
    "    lst_results.append(calc_value(i_content.replace('\\n','').split(' ')[1],i_content.replace('\\n','').split(' ')[0]))"
   ]
  },
  {
   "cell_type": "code",
   "execution_count": 28,
   "metadata": {},
   "outputs": [
    {
     "data": {
      "text/plain": [
       "14827"
      ]
     },
     "execution_count": 28,
     "metadata": {},
     "output_type": "execute_result"
    }
   ],
   "source": [
    "# Total Score for user\n",
    "sum(lst_results)"
   ]
  },
  {
   "cell_type": "markdown",
   "metadata": {},
   "source": [
    "### Part 2"
   ]
  },
  {
   "cell_type": "code",
   "execution_count": 83,
   "metadata": {
    "collapsed": true
   },
   "outputs": [],
   "source": [
    "def func_required_input_value(opponent_value, expected_outcome):\n",
    "    value_dict = {\"A\":0,\"B\":1,\"C\":2}\n",
    "    lst_user_options = ['X','Y','Z']\n",
    "    list_opponent_options = ['A','B','C']\n",
    "    if expected_outcome == 'X':\n",
    "        # Need to lose\n",
    "        return list_opponent_options[value_dict[opponent_value]-1]\n",
    "    elif expected_outcome == 'Y':\n",
    "        return opponent_value\n",
    "    elif expected_outcome == 'Z' and opponent_value == 'C':\n",
    "        return lst_user_options[0]\n",
    "    elif expected_outcome == 'Z':\n",
    "        return lst_user_options[value_dict[opponent_value]+1]"
   ]
  },
  {
   "cell_type": "code",
   "execution_count": 84,
   "metadata": {},
   "outputs": [],
   "source": [
    "lst_alt_results = []\n",
    "for i_content in contents:\n",
    "    input_value = func_required_input_value(i_content.replace('\\n','').split(' ')[0],i_content.replace('\\n','').split(' ')[1])\n",
    "    lst_alt_results.append(calc_value(input_value,i_content.replace('\\n','').split(' ')[0]))"
   ]
  },
  {
   "cell_type": "code",
   "execution_count": 86,
   "metadata": {},
   "outputs": [
    {
     "data": {
      "text/plain": [
       "13889"
      ]
     },
     "execution_count": 86,
     "metadata": {},
     "output_type": "execute_result"
    }
   ],
   "source": [
    "# Total Score for user\n",
    "sum(lst_alt_results)"
   ]
  },
  {
   "cell_type": "code",
   "execution_count": null,
   "metadata": {
    "collapsed": true
   },
   "outputs": [],
   "source": []
  }
 ],
 "metadata": {
  "kernelspec": {
   "display_name": "Python 3",
   "language": "python",
   "name": "python3"
  },
  "language_info": {
   "codemirror_mode": {
    "name": "ipython",
    "version": 3
   },
   "file_extension": ".py",
   "mimetype": "text/x-python",
   "name": "python",
   "nbconvert_exporter": "python",
   "pygments_lexer": "ipython3",
   "version": "3.6.3"
  }
 },
 "nbformat": 4,
 "nbformat_minor": 2
}
