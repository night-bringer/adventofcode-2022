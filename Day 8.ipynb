{
 "cells": [
  {
   "cell_type": "markdown",
   "metadata": {},
   "source": [
    "# Day 8\n",
    "### Part 1"
   ]
  },
  {
   "cell_type": "code",
   "execution_count": 623,
   "metadata": {
    "collapsed": true
   },
   "outputs": [],
   "source": [
    "import pandas as pd\n",
    "import numpy as np"
   ]
  },
  {
   "cell_type": "code",
   "execution_count": 624,
   "metadata": {
    "collapsed": true
   },
   "outputs": [],
   "source": [
    "with open('data_day8.txt') as f:\n",
    "    contents = f.readlines()"
   ]
  },
  {
   "cell_type": "code",
   "execution_count": 625,
   "metadata": {},
   "outputs": [],
   "source": [
    "lst_group = []\n",
    "for i_content in contents:\n",
    "    lst_sub_group = []\n",
    "    for i_char in i_content.replace('\\n',''):\n",
    "        lst_sub_group.append(i_char)\n",
    "    lst_group.append(lst_sub_group)"
   ]
  },
  {
   "cell_type": "code",
   "execution_count": 626,
   "metadata": {
    "collapsed": true
   },
   "outputs": [],
   "source": [
    "array_trees = np.array(lst_group)"
   ]
  },
  {
   "cell_type": "code",
   "execution_count": 627,
   "metadata": {
    "collapsed": true
   },
   "outputs": [],
   "source": [
    "array_zero = np.zeros(shape = np.shape(array_trees))"
   ]
  },
  {
   "cell_type": "code",
   "execution_count": 628,
   "metadata": {},
   "outputs": [],
   "source": [
    "def func_return_populated_array_template(array_trees, array_sight):\n",
    "    zero_array_template = array_sight\n",
    "    for i_case in range(0,len(array_trees)):\n",
    "        lst_checker = list(array_trees[i_case])\n",
    "        int_figure = int(lst_checker[0])\n",
    "        for i_item_pos in range(0,len(lst_checker)):\n",
    "            if i_item_pos == 0:\n",
    "                zero_array_template[i_case,i_item_pos] = 1\n",
    "            i_item = lst_checker[i_item_pos]\n",
    "            if int(i_item) > int(int_figure):\n",
    "                zero_array_template[i_case,i_item_pos] = 1\n",
    "                int_figure = int(i_item)\n",
    "    return zero_array_template"
   ]
  },
  {
   "cell_type": "code",
   "execution_count": 629,
   "metadata": {
    "collapsed": true
   },
   "outputs": [],
   "source": [
    "# Side 1\n",
    "array_zero = np.zeros(shape = np.shape(array_trees))\n",
    "array_zero = func_return_populated_array_template(array_trees,array_zero)\n",
    "\n",
    "# Side 2\n",
    "array_trees = np.rot90(array_trees)\n",
    "array_zero = np.rot90(array_zero)\n",
    "array_zero = func_return_populated_array_template(array_trees,array_zero)\n",
    "\n",
    "# Side 3\n",
    "array_trees = np.rot90(array_trees)\n",
    "array_zero = np.rot90(array_zero)\n",
    "array_zero = func_return_populated_array_template(array_trees,array_zero)\n",
    "\n",
    "# Side 4\n",
    "array_trees = np.rot90(array_trees)\n",
    "array_zero = np.rot90(array_zero)\n",
    "array_zero = func_return_populated_array_template(array_trees,array_zero)\n",
    "\n",
    "# Rotate back to original positions\n",
    "array_trees = np.rot90(array_trees)\n",
    "array_zero = np.rot90(array_zero)"
   ]
  },
  {
   "cell_type": "code",
   "execution_count": 630,
   "metadata": {},
   "outputs": [
    {
     "data": {
      "text/plain": [
       "array([['2', '2', '0', ..., '1', '0', '3'],\n",
       "       ['1', '1', '2', ..., '2', '0', '1'],\n",
       "       ['0', '3', '0', ..., '1', '0', '0'],\n",
       "       ...,\n",
       "       ['2', '0', '0', ..., '3', '0', '1'],\n",
       "       ['2', '1', '3', ..., '1', '3', '2'],\n",
       "       ['2', '1', '1', ..., '0', '1', '0']], dtype='<U1')"
      ]
     },
     "execution_count": 630,
     "metadata": {},
     "output_type": "execute_result"
    }
   ],
   "source": [
    "# Original trees\n",
    "array_trees"
   ]
  },
  {
   "cell_type": "code",
   "execution_count": 631,
   "metadata": {},
   "outputs": [
    {
     "data": {
      "text/plain": [
       "array([[1., 1., 1., ..., 1., 1., 1.],\n",
       "       [1., 0., 1., ..., 1., 0., 1.],\n",
       "       [1., 1., 0., ..., 1., 0., 1.],\n",
       "       ...,\n",
       "       [1., 0., 0., ..., 1., 0., 1.],\n",
       "       [1., 0., 1., ..., 1., 1., 1.],\n",
       "       [1., 1., 1., ..., 1., 1., 1.]])"
      ]
     },
     "execution_count": 631,
     "metadata": {},
     "output_type": "execute_result"
    }
   ],
   "source": [
    "# Visible marker\n",
    "array_zero"
   ]
  },
  {
   "cell_type": "code",
   "execution_count": 632,
   "metadata": {},
   "outputs": [
    {
     "data": {
      "text/plain": [
       "1736.0"
      ]
     },
     "execution_count": 632,
     "metadata": {},
     "output_type": "execute_result"
    }
   ],
   "source": [
    "sum(sum(array_zero))"
   ]
  },
  {
   "cell_type": "markdown",
   "metadata": {},
   "source": [
    "### Part 2"
   ]
  },
  {
   "cell_type": "code",
   "execution_count": 633,
   "metadata": {},
   "outputs": [],
   "source": [
    "int_height, int_width = np.shape(array_trees)[0],np.shape(array_trees)[1]"
   ]
  },
  {
   "cell_type": "code",
   "execution_count": 634,
   "metadata": {
    "collapsed": true
   },
   "outputs": [],
   "source": [
    "array_zero_move_left = np.zeros(shape = np.shape(array_trees))\n",
    "array_zero_move_right = np.zeros(shape = np.shape(array_trees))\n",
    "array_zero_move_up = np.zeros(shape = np.shape(array_trees))\n",
    "array_zero_move_down = np.zeros(shape = np.shape(array_trees))"
   ]
  },
  {
   "cell_type": "code",
   "execution_count": 635,
   "metadata": {},
   "outputs": [],
   "source": [
    "for i_height in range(0,int_height):\n",
    "    for i_width in range(0,int_width):\n",
    "\n",
    "        # Move Up\n",
    "        bol_same_height_marker = False\n",
    "        bol_max_heigth_changed = False\n",
    "        int_marker = array_trees[i_height][i_width]\n",
    "        for i_row in reversed(range(0,i_height)):\n",
    "            if array_trees[i_row][i_width] < int_marker and bol_max_heigth_changed == False and bol_same_height_marker == False:\n",
    "                array_zero_move_up[i_height][i_width] += 1\n",
    "            elif array_trees[i_row][i_width] > int_marker and bol_max_heigth_changed == False:\n",
    "                array_zero_move_up[i_height][i_width] += 1\n",
    "                int_marker = array_trees[i_row][i_width]\n",
    "                bol_max_heigth_changed = True\n",
    "                bol_same_height_marker = False\n",
    "                break\n",
    "            elif array_trees[i_row][i_width] == int_marker:\n",
    "#             elif array_trees[i_row][i_width] == int_marker and bol_same_height_marker == False:\n",
    "                array_zero_move_up[i_height][i_width] += 1\n",
    "                bol_same_height_marker = True\n",
    "                break\n",
    "\n",
    "        # Move Down\n",
    "        bol_same_height_marker = False\n",
    "        bol_max_heigth_changed = False\n",
    "        int_marker = array_trees[i_height][i_width]\n",
    "        for i_row in range(i_height+1,int_height):\n",
    "            if array_trees[i_row][i_width] < int_marker and bol_max_heigth_changed == False and bol_same_height_marker == False:\n",
    "                array_zero_move_down[i_height][i_width] += 1\n",
    "            elif array_trees[i_row][i_width] > int_marker and bol_max_heigth_changed == False:\n",
    "                array_zero_move_down[i_height][i_width] += 1\n",
    "                int_marker = array_trees[i_row][i_width]\n",
    "                bol_max_heigth_changed = True\n",
    "                bol_same_height_marker = False\n",
    "                break\n",
    "            elif array_trees[i_row][i_width] == int_marker:\n",
    "#             elif array_trees[i_row][i_width] == int_marker and bol_same_height_marker == False:\n",
    "                array_zero_move_down[i_height][i_width] += 1\n",
    "                bol_same_height_marker = True\n",
    "                break\n",
    "\n",
    "        # Move Left\n",
    "        bol_same_height_marker = False\n",
    "        bol_max_heigth_changed = False\n",
    "        int_marker = array_trees[i_height][i_width]\n",
    "        for i_col in reversed(range(0,i_width)):\n",
    "            if array_trees[i_height][i_col] < int_marker and bol_max_heigth_changed == False and bol_same_height_marker == False:\n",
    "                array_zero_move_left[i_height][i_width] += 1\n",
    "            elif array_trees[i_height][i_col] > int_marker and bol_max_heigth_changed == False:\n",
    "                array_zero_move_left[i_height][i_width] += 1\n",
    "                int_marker = array_trees[i_height][i_col]\n",
    "                bol_max_heigth_changed = True\n",
    "                bol_same_height_marker = False\n",
    "                break\n",
    "            elif array_trees[i_height][i_col] == int_marker:\n",
    "#             elif array_trees[i_height][i_col] == int_marker and bol_same_height_marker == False:\n",
    "                array_zero_move_left[i_height][i_width] += 1\n",
    "                bol_same_height_marker = True\n",
    "                break\n",
    "        \n",
    "        # Move Right\n",
    "        bol_same_height_marker = False\n",
    "        bol_max_heigth_changed = False\n",
    "        int_marker = array_trees[i_height][i_width]\n",
    "        for i_col in range(i_width+1,int_width):\n",
    "            if array_trees[i_height][i_col] < int_marker and bol_max_heigth_changed == False and bol_same_height_marker == False:\n",
    "                array_zero_move_right[i_height][i_width] += 1\n",
    "            elif array_trees[i_height][i_col] > int_marker and bol_max_heigth_changed == False:\n",
    "                array_zero_move_right[i_height][i_width] += 1\n",
    "                int_marker = array_trees[i_height][i_col]\n",
    "                bol_max_heigth_changed = True\n",
    "                bol_same_height_marker = False\n",
    "                break\n",
    "            elif array_trees[i_height][i_col] == int_marker:\n",
    "#             elif array_trees[i_height][i_col] == int_marker and bol_same_height_marker == False:\n",
    "                array_zero_move_right[i_height][i_width] += 1\n",
    "                bol_same_height_marker = True\n",
    "                break"
   ]
  },
  {
   "cell_type": "code",
   "execution_count": 636,
   "metadata": {},
   "outputs": [
    {
     "data": {
      "text/plain": [
       "array([[0., 1., 1., ..., 1., 1., 5.],\n",
       "       [0., 1., 2., ..., 5., 1., 2.],\n",
       "       [0., 1., 1., ..., 1., 1., 1.],\n",
       "       ...,\n",
       "       [0., 1., 1., ..., 1., 1., 2.],\n",
       "       [0., 1., 2., ..., 1., 5., 1.],\n",
       "       [0., 1., 1., ..., 1., 2., 1.]])"
      ]
     },
     "execution_count": 636,
     "metadata": {},
     "output_type": "execute_result"
    }
   ],
   "source": [
    "array_zero_move_left"
   ]
  },
  {
   "cell_type": "code",
   "execution_count": 637,
   "metadata": {},
   "outputs": [
    {
     "data": {
      "text/plain": [
       "array([[1., 2., 1., ..., 2., 1., 0.],\n",
       "       [1., 1., 1., ..., 2., 1., 0.],\n",
       "       [1., 6., 1., ..., 2., 1., 0.],\n",
       "       ...,\n",
       "       [3., 1., 1., ..., 2., 1., 0.],\n",
       "       [2., 1., 2., ..., 1., 1., 0.],\n",
       "       [3., 1., 1., ..., 1., 1., 0.]])"
      ]
     },
     "execution_count": 637,
     "metadata": {},
     "output_type": "execute_result"
    }
   ],
   "source": [
    "array_zero_move_right"
   ]
  },
  {
   "cell_type": "code",
   "execution_count": 638,
   "metadata": {},
   "outputs": [
    {
     "data": {
      "text/plain": [
       "array([[0., 0., 0., ..., 0., 0., 0.],\n",
       "       [1., 1., 1., ..., 1., 1., 1.],\n",
       "       [1., 2., 1., ..., 1., 1., 1.],\n",
       "       ...,\n",
       "       [1., 1., 1., ..., 1., 1., 2.],\n",
       "       [1., 2., 2., ..., 1., 7., 7.],\n",
       "       [1., 1., 1., ..., 1., 1., 1.]])"
      ]
     },
     "execution_count": 638,
     "metadata": {},
     "output_type": "execute_result"
    }
   ],
   "source": [
    "array_zero_move_up"
   ]
  },
  {
   "cell_type": "code",
   "execution_count": 639,
   "metadata": {},
   "outputs": [
    {
     "data": {
      "text/plain": [
       "array([[4., 2., 1., ..., 1., 1., 5.],\n",
       "       [3., 1., 4., ..., 2., 1., 4.],\n",
       "       [1., 1., 1., ..., 1., 1., 1.],\n",
       "       ...,\n",
       "       [1., 1., 1., ..., 2., 1., 1.],\n",
       "       [1., 1., 1., ..., 1., 1., 1.],\n",
       "       [0., 0., 0., ..., 0., 0., 0.]])"
      ]
     },
     "execution_count": 639,
     "metadata": {},
     "output_type": "execute_result"
    }
   ],
   "source": [
    "array_zero_move_down"
   ]
  },
  {
   "cell_type": "code",
   "execution_count": 640,
   "metadata": {},
   "outputs": [
    {
     "data": {
      "text/plain": [
       "268800.0"
      ]
     },
     "execution_count": 640,
     "metadata": {},
     "output_type": "execute_result"
    }
   ],
   "source": [
    "# Answer\n",
    "# 502200\n",
    "# 134400\n",
    "# 268800\n",
    "np.max(array_zero_move_left*array_zero_move_right*array_zero_move_up*array_zero_move_down)"
   ]
  },
  {
   "cell_type": "code",
   "execution_count": null,
   "metadata": {
    "collapsed": true
   },
   "outputs": [],
   "source": []
  }
 ],
 "metadata": {
  "kernelspec": {
   "display_name": "Python 3",
   "language": "python",
   "name": "python3"
  },
  "language_info": {
   "codemirror_mode": {
    "name": "ipython",
    "version": 3
   },
   "file_extension": ".py",
   "mimetype": "text/x-python",
   "name": "python",
   "nbconvert_exporter": "python",
   "pygments_lexer": "ipython3",
   "version": "3.6.3"
  }
 },
 "nbformat": 4,
 "nbformat_minor": 2
}
