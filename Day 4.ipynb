{
 "cells": [
  {
   "cell_type": "markdown",
   "metadata": {},
   "source": [
    "# Day 4\n",
    "### Part 1"
   ]
  },
  {
   "cell_type": "code",
   "execution_count": 1,
   "metadata": {
    "collapsed": true
   },
   "outputs": [],
   "source": [
    "with open('data_day4.txt') as f:\n",
    "    contents = f.readlines()"
   ]
  },
  {
   "cell_type": "code",
   "execution_count": 3,
   "metadata": {
    "collapsed": true
   },
   "outputs": [],
   "source": [
    "lst_groups = []\n",
    "for i_content in contents:\n",
    "    lst_groups.append(i_content.replace('\\n','').split(','))"
   ]
  },
  {
   "cell_type": "code",
   "execution_count": 29,
   "metadata": {},
   "outputs": [],
   "source": [
    "i_counter = 0\n",
    "i_overlaps = 0\n",
    "for i_group in lst_groups:\n",
    "    lst_section_1 = i_group[0].split('-')\n",
    "    lst_section_2 = i_group[1].split('-')\n",
    "    if (int(lst_section_1[0]) <= int(lst_section_2[0]) and int(lst_section_1[1]) >= int(lst_section_2[1])):\n",
    "        i_counter += 1\n",
    "    elif (int(lst_section_2[0]) <= int(lst_section_1[0]) and int(lst_section_2[1]) >= int(lst_section_1[1])):\n",
    "        i_counter += 1"
   ]
  },
  {
   "cell_type": "code",
   "execution_count": 30,
   "metadata": {},
   "outputs": [
    {
     "data": {
      "text/plain": [
       "500"
      ]
     },
     "execution_count": 30,
     "metadata": {},
     "output_type": "execute_result"
    }
   ],
   "source": [
    "# Answer\n",
    "i_counter"
   ]
  },
  {
   "cell_type": "markdown",
   "metadata": {},
   "source": [
    "### Part 2"
   ]
  },
  {
   "cell_type": "code",
   "execution_count": 94,
   "metadata": {},
   "outputs": [],
   "source": [
    "# Version 1\n",
    "i_counter = 0\n",
    "for i_group in lst_groups:\n",
    "    lst_section_1 = i_group[0].split('-')\n",
    "    lst_section_2 = i_group[1].split('-')\n",
    "    if int(lst_section_1[0]) == int(lst_section_1[1]):\n",
    "        if int(lst_section_1[0]) in range(int(lst_section_2[0]),int(lst_section_2[1])) or int(lst_section_1[0]) == int(lst_section_2[0]) or int(lst_section_1[0]) == int(lst_section_2[1]):\n",
    "            i_counter += 1\n",
    "    else:\n",
    "        for i_value in list(range(int(lst_section_1[0]),int(lst_section_1[1]))):\n",
    "            if i_value in list(range(int(lst_section_2[0]),int(lst_section_2[1]))) or i_value == int(lst_section_2[0]) or i_value == int(lst_section_2[1]):\n",
    "                i_counter += 1\n",
    "                break"
   ]
  },
  {
   "cell_type": "code",
   "execution_count": 108,
   "metadata": {},
   "outputs": [],
   "source": [
    "# Version 2\n",
    "lst_dupe_case = []\n",
    "i_counter = 0\n",
    "for i_group in lst_groups:\n",
    "    lst_section_1 = i_group[0].split('-')\n",
    "    lst_section_2 = i_group[1].split('-')\n",
    "    for i_value in list(range(int(lst_section_1[0]),int(lst_section_1[1])+1)):\n",
    "        if i_value in list(range(int(lst_section_2[0]),int(lst_section_2[1])+1)):\n",
    "            i_counter += 1\n",
    "            lst_dupe_case.append([lst_section_1,lst_section_2])\n",
    "            break"
   ]
  },
  {
   "cell_type": "code",
   "execution_count": 109,
   "metadata": {},
   "outputs": [
    {
     "data": {
      "text/plain": [
       "815"
      ]
     },
     "execution_count": 109,
     "metadata": {},
     "output_type": "execute_result"
    }
   ],
   "source": [
    "# Answer\n",
    "i_counter"
   ]
  },
  {
   "cell_type": "code",
   "execution_count": null,
   "metadata": {
    "collapsed": true
   },
   "outputs": [],
   "source": []
  }
 ],
 "metadata": {
  "kernelspec": {
   "display_name": "Python 3",
   "language": "python",
   "name": "python3"
  },
  "language_info": {
   "codemirror_mode": {
    "name": "ipython",
    "version": 3
   },
   "file_extension": ".py",
   "mimetype": "text/x-python",
   "name": "python",
   "nbconvert_exporter": "python",
   "pygments_lexer": "ipython3",
   "version": "3.6.3"
  }
 },
 "nbformat": 4,
 "nbformat_minor": 2
}
