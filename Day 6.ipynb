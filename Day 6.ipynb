{
 "cells": [
  {
   "cell_type": "markdown",
   "metadata": {},
   "source": [
    "# Day 6\n",
    "### Part 1"
   ]
  },
  {
   "cell_type": "code",
   "execution_count": 41,
   "metadata": {
    "collapsed": true
   },
   "outputs": [],
   "source": [
    "with open('data_day6.txt') as f:\n",
    "    contents = f.readlines()"
   ]
  },
  {
   "cell_type": "code",
   "execution_count": 42,
   "metadata": {},
   "outputs": [],
   "source": [
    "text = [x for x in contents[0]]"
   ]
  },
  {
   "cell_type": "code",
   "execution_count": 43,
   "metadata": {},
   "outputs": [
    {
     "name": "stdout",
     "output_type": "stream",
     "text": [
      "FOUND:1953\n"
     ]
    }
   ],
   "source": [
    "lst_groups = []\n",
    "for i_pos in range(0,len(text)+1):\n",
    "    lst_groups.append([[text[i_pos:i_pos+4]],list(dict.fromkeys(text[i_pos:i_pos+4]).keys())])\n",
    "    if text[i_pos:i_pos+4] == list(dict.fromkeys(text[i_pos:i_pos+4]).keys()):\n",
    "        print('FOUND:' + str(i_pos+4))\n",
    "        break"
   ]
  },
  {
   "cell_type": "markdown",
   "metadata": {},
   "source": [
    "### Part 2"
   ]
  },
  {
   "cell_type": "code",
   "execution_count": 44,
   "metadata": {},
   "outputs": [
    {
     "name": "stdout",
     "output_type": "stream",
     "text": [
      "FOUND:2301\n"
     ]
    }
   ],
   "source": [
    "lst_groups = []\n",
    "for i_pos in range(0,len(text)+1):\n",
    "    lst_groups.append([[text[i_pos:i_pos+14]],list(dict.fromkeys(text[i_pos:i_pos+14]).keys())])\n",
    "    if text[i_pos:i_pos+14] == list(dict.fromkeys(text[i_pos:i_pos+14]).keys()):\n",
    "        print('FOUND:' + str(i_pos+14))\n",
    "        break"
   ]
  },
  {
   "cell_type": "code",
   "execution_count": null,
   "metadata": {
    "collapsed": true
   },
   "outputs": [],
   "source": []
  }
 ],
 "metadata": {
  "kernelspec": {
   "display_name": "Python 3",
   "language": "python",
   "name": "python3"
  },
  "language_info": {
   "codemirror_mode": {
    "name": "ipython",
    "version": 3
   },
   "file_extension": ".py",
   "mimetype": "text/x-python",
   "name": "python",
   "nbconvert_exporter": "python",
   "pygments_lexer": "ipython3",
   "version": "3.6.3"
  }
 },
 "nbformat": 4,
 "nbformat_minor": 2
}
