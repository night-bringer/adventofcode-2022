{
 "cells": [
  {
   "cell_type": "markdown",
   "metadata": {},
   "source": [
    "# Day 5\n",
    "### Part 1"
   ]
  },
  {
   "cell_type": "code",
   "execution_count": 3,
   "metadata": {
    "collapsed": true
   },
   "outputs": [],
   "source": [
    "lst_group_1 = ['N','B','D','T','V','G','Z','J']\n",
    "lst_group_2 = ['S','R','M','D','W','P','F']\n",
    "lst_group_3 = ['V','C','R','S','Z']\n",
    "lst_group_4 = ['R','T','J','Z','P','H','G']\n",
    "lst_group_5 = ['T','C','J','N','D','Z','Q','F']\n",
    "lst_group_6 = ['N','V','P','W','G','S','F','M']\n",
    "lst_group_7 = ['G','C','V','B','P','Q']\n",
    "lst_group_8 = ['Z','B','P','N']\n",
    "lst_group_9 = ['W','P','J']"
   ]
  },
  {
   "cell_type": "code",
   "execution_count": 4,
   "metadata": {
    "collapsed": true
   },
   "outputs": [],
   "source": [
    "dict_grouping = {1:lst_group_1,2:lst_group_2,3:lst_group_3,4:lst_group_4,5:lst_group_5,6:lst_group_6,7:lst_group_7,8:lst_group_8,9:lst_group_9}"
   ]
  },
  {
   "cell_type": "code",
   "execution_count": 5,
   "metadata": {
    "collapsed": true
   },
   "outputs": [],
   "source": [
    "with open('data_day5.txt') as f:\n",
    "    contents = f.readlines()"
   ]
  },
  {
   "cell_type": "code",
   "execution_count": 11,
   "metadata": {},
   "outputs": [],
   "source": [
    "sub_contents = contents[10:]"
   ]
  },
  {
   "cell_type": "code",
   "execution_count": 38,
   "metadata": {
    "collapsed": true
   },
   "outputs": [],
   "source": [
    "# Create easier to use command layout - dictionaries\n",
    "lst_commands = []\n",
    "for i_contents in sub_contents:\n",
    "    lst_commands.append({'move':int(i_contents[:i_contents.rfind(' from')].replace('move ','')),'from':int(i_contents[i_contents.rfind(' from ')+len(' from '):i_contents.rfind(' to ')]),'to':int(i_contents[i_contents.rfind(' to ')+len(' to '):].replace('\\n',''))})"
   ]
  },
  {
   "cell_type": "code",
   "execution_count": 39,
   "metadata": {
    "collapsed": true
   },
   "outputs": [],
   "source": [
    "for dict_command in lst_commands:\n",
    "    for i_step in range(1,dict_command['move']+1):\n",
    "        dict_grouping[dict_command['to']].append(dict_grouping[dict_command['from']][-1])\n",
    "        dict_grouping[dict_command['from']].pop()"
   ]
  },
  {
   "cell_type": "code",
   "execution_count": 40,
   "metadata": {},
   "outputs": [
    {
     "data": {
      "text/plain": [
       "{1: ['G'],\n",
       " 2: ['V', 'Q', 'F'],\n",
       " 3: ['J', 'S', 'T'],\n",
       " 4: ['C', 'V', 'N', 'N'],\n",
       " 5: ['S', 'C', 'T', 'M', 'Q', 'W', 'V', 'R'],\n",
       " 6: ['J',\n",
       "  'Z',\n",
       "  'P',\n",
       "  'D',\n",
       "  'B',\n",
       "  'N',\n",
       "  'G',\n",
       "  'J',\n",
       "  'D',\n",
       "  'R',\n",
       "  'W',\n",
       "  'T',\n",
       "  'B',\n",
       "  'M',\n",
       "  'P',\n",
       "  'P',\n",
       "  'G',\n",
       "  'H',\n",
       "  'W',\n",
       "  'N',\n",
       "  'B'],\n",
       " 7: ['Z', 'S', 'V', 'R', 'P', 'Z'],\n",
       " 8: ['P', 'G', 'Z', 'J', 'P'],\n",
       " 9: ['C', 'Z', 'D', 'F', 'F']}"
      ]
     },
     "execution_count": 40,
     "metadata": {},
     "output_type": "execute_result"
    }
   ],
   "source": [
    "dict_grouping"
   ]
  },
  {
   "cell_type": "code",
   "execution_count": 41,
   "metadata": {},
   "outputs": [
    {
     "data": {
      "text/plain": [
       "('G', 'F', 'T', 'N', 'R', 'B', 'Z', 'P', 'F')"
      ]
     },
     "execution_count": 41,
     "metadata": {},
     "output_type": "execute_result"
    }
   ],
   "source": [
    "# Answer\n",
    "dict_grouping[1][-1],dict_grouping[2][-1],dict_grouping[3][-1],dict_grouping[4][-1],dict_grouping[5][-1],dict_grouping[6][-1],dict_grouping[7][-1],dict_grouping[8][-1],dict_grouping[9][-1]"
   ]
  },
  {
   "cell_type": "markdown",
   "metadata": {},
   "source": [
    "### Part 2"
   ]
  },
  {
   "cell_type": "code",
   "execution_count": 92,
   "metadata": {
    "collapsed": true
   },
   "outputs": [],
   "source": [
    "lst_group_1 = ['N','B','D','T','V','G','Z','J']\n",
    "lst_group_2 = ['S','R','M','D','W','P','F']\n",
    "lst_group_3 = ['V','C','R','S','Z']\n",
    "lst_group_4 = ['R','T','J','Z','P','H','G']\n",
    "lst_group_5 = ['T','C','J','N','D','Z','Q','F']\n",
    "lst_group_6 = ['N','V','P','W','G','S','F','M']\n",
    "lst_group_7 = ['G','C','V','B','P','Q']\n",
    "lst_group_8 = ['Z','B','P','N']\n",
    "lst_group_9 = ['W','P','J']"
   ]
  },
  {
   "cell_type": "code",
   "execution_count": 93,
   "metadata": {
    "collapsed": true
   },
   "outputs": [],
   "source": [
    "dict_grouping = {1:lst_group_1,2:lst_group_2,3:lst_group_3,4:lst_group_4,5:lst_group_5,6:lst_group_6,7:lst_group_7,8:lst_group_8,9:lst_group_9}"
   ]
  },
  {
   "cell_type": "code",
   "execution_count": 94,
   "metadata": {},
   "outputs": [],
   "source": [
    "for dict_command in lst_commands:\n",
    "    dict_grouping[dict_command['to']].extend(dict_grouping[dict_command['from']][-dict_command['move']:])\n",
    "    for i_step in range(1,dict_command['move']+1):\n",
    "            dict_grouping[dict_command['from']].pop()"
   ]
  },
  {
   "cell_type": "code",
   "execution_count": 95,
   "metadata": {},
   "outputs": [
    {
     "data": {
      "text/plain": [
       "{1: ['V'],\n",
       " 2: ['T', 'B', 'R'],\n",
       " 3: ['F', 'S', 'Q'],\n",
       " 4: ['R', 'H', 'Q', 'W'],\n",
       " 5: ['N', 'J', 'D', 'G', 'M', 'G', 'F', 'P'],\n",
       " 6: ['Z',\n",
       "  'N',\n",
       "  'Z',\n",
       "  'F',\n",
       "  'M',\n",
       "  'C',\n",
       "  'C',\n",
       "  'B',\n",
       "  'Z',\n",
       "  'D',\n",
       "  'R',\n",
       "  'T',\n",
       "  'G',\n",
       "  'N',\n",
       "  'Z',\n",
       "  'J',\n",
       "  'P',\n",
       "  'V',\n",
       "  'J',\n",
       "  'B',\n",
       "  'D'],\n",
       " 7: ['C', 'V', 'P', 'W', 'Z', 'S'],\n",
       " 8: ['P', 'V', 'J', 'W', 'G'],\n",
       " 9: ['N', 'T', 'P', 'S', 'P']}"
      ]
     },
     "execution_count": 95,
     "metadata": {},
     "output_type": "execute_result"
    }
   ],
   "source": [
    "dict_grouping"
   ]
  },
  {
   "cell_type": "code",
   "execution_count": 96,
   "metadata": {
    "collapsed": true
   },
   "outputs": [],
   "source": [
    "str_output = ''\n",
    "for key in list(dict_grouping.keys()):\n",
    "    str_output = str_output + dict_grouping[key][-1]"
   ]
  },
  {
   "cell_type": "code",
   "execution_count": 97,
   "metadata": {},
   "outputs": [
    {
     "data": {
      "text/plain": [
       "'VRQWPDSGP'"
      ]
     },
     "execution_count": 97,
     "metadata": {},
     "output_type": "execute_result"
    }
   ],
   "source": [
    "# Answer\n",
    "str_output"
   ]
  },
  {
   "cell_type": "code",
   "execution_count": null,
   "metadata": {
    "collapsed": true
   },
   "outputs": [],
   "source": []
  }
 ],
 "metadata": {
  "kernelspec": {
   "display_name": "Python 3",
   "language": "python",
   "name": "python3"
  },
  "language_info": {
   "codemirror_mode": {
    "name": "ipython",
    "version": 3
   },
   "file_extension": ".py",
   "mimetype": "text/x-python",
   "name": "python",
   "nbconvert_exporter": "python",
   "pygments_lexer": "ipython3",
   "version": "3.6.3"
  }
 },
 "nbformat": 4,
 "nbformat_minor": 2
}
